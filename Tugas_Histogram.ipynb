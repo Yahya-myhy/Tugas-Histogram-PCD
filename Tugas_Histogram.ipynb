{
 "cells": [
  {
   "cell_type": "markdown",
   "metadata": {},
   "source": [
    "# Soal Nomor 1\n",
    "\n",
    "##### 1.\tBuatlah histrogram dari citra dengan data berikut ini\n",
    "120\t129\t122\t121\t125\t130<br>\n",
    "124\t128\t125\t123\t129\t129<br>\n",
    "127\t123\t122\t128\t121\t125<br>\n",
    "122\t126\t124\t127\t139\t120<br>\n",
    "128\t128\t123\t120\t129\t121<br>\n",
    "128\t127\t124\t122\t121\t126<br>"
   ]
  },
  {
   "cell_type": "code",
   "execution_count": 2,
   "metadata": {},
   "outputs": [],
   "source": [
    "import numpy as np\n",
    "import matplotlib.pyplot as plt"
   ]
  },
  {
   "cell_type": "code",
   "execution_count": 15,
   "metadata": {},
   "outputs": [
    {
     "name": "stdout",
     "output_type": "stream",
     "text": [
      "Histogram Citra No. 1\n"
     ]
    },
    {
     "data": {
      "image/png": "[encoded data removed]",
      "text/plain": [
       "<Figure size 432x288 with 1 Axes>"
      ]
     },
     "metadata": {
      "needs_background": "light"
     },
     "output_type": "display_data"
    }
   ],
   "source": [
    "citra = [120, 129, 122, 121, 125, 130, \n",
    "        124, 128, 125, 123, 129, 129,\n",
    "        127, 123, 122, 128, 121, 125,\n",
    "        122, 126, 124, 127, 139, 120,\n",
    "        128, 128, 123, 120, 129, 121,\n",
    "        128, 127, 124, 122, 121, 126]\n",
    "\n",
    "hist,bins = np.histogram(citra, 256, [0,256])\n",
    "\n",
    "cdf = hist.cumsum()\n",
    "cdf_normalized = cdf * hist.max() / cdf.max()\n",
    "plt.plot(cdf_normalized, color='black')\n",
    "plt.hist(citra, 256, [0,256], color='green')\n",
    "plt.xlim([0,256])\n",
    "plt.legend(('cdf', 'histogram'), loc= 'upper left')\n",
    "print(\"Histogram Citra No. 1\")\n",
    "plt.show()"
   ]
  },
  {
   "cell_type": "markdown",
   "metadata": {},
   "source": [
    "# Soal Nomor 2\n",
    "\n",
    "##### 2.\tBerikut ini terdapat potongan citra dengan ukuran 10x10 piksel dengan rentang nilai 0-7<br>\n",
    "7 7 7 7 7 5 5 5 5 5<br>\n",
    "7 7 7 6 6 6 6 5 5 5<br>\n",
    "5 5 5 5 5 4 4 5 5 5<br>\n",
    "3 3 3 3 4 4 4 4 5 6<br>\n",
    "4 4 4 2 2 0 0 0 0 1<br>\n",
    "5 5 6 7 7 7 7 6 6 7<br>\n",
    "4 4 3 3 4 5 5 5 6 6<br>\n",
    "7 7 7 7 7 6 7 7 7 5<br>\n",
    "6 6 6 6 7 7 7 5 5 5<br>\n",
    "4 4 4 5 5 5 6 6 6 6<br>\n",
    "<br>\n",
    "a.\tLakukanlah histogram equalization pada citra tersebut.<br>\n",
    "b.\tLakukan historgram specification pada citra tersebut dengan spesifikasi {0 : 5%, 1 : 5%, 2 : 10%, 3 : 15%, 4 : 20%, 5 : 25%, 6 : 15%, 7 : 5%}!\n",
    "\n",
    "\n"
   ]
  },
  {
   "cell_type": "markdown",
   "metadata": {},
   "source": [
    "# a. Hiztogram Equalization"
   ]
  },
  {
   "cell_type": "code",
   "execution_count": 18,
   "metadata": {},
   "outputs": [
    {
     "data": {
      "image/png": "[encoded data removed]",
      "text/plain": [
       "<Figure size 432x288 with 1 Axes>"
      ]
     },
     "metadata": {
      "needs_background": "light"
     },
     "output_type": "display_data"
    },
    {
     "data": {
      "image/png": "[encoded data removed]",
      "text/plain": [
       "<Figure size 432x288 with 1 Axes>"
      ]
     },
     "metadata": {
      "needs_background": "light"
     },
     "output_type": "display_data"
    }
   ],
   "source": [
    "citra_awal = [7, 7, 7, 7, 7, 5, 5, 5, 5, 5,\n",
    "              7, 7, 7, 6, 6, 6, 6, 5, 5, 5,\n",
    "              5, 5, 5, 5, 5, 4, 4, 5, 5, 5,\n",
    "              3, 3, 3, 3, 4, 4, 4, 4, 5, 6,\n",
    "              4, 4, 4, 2, 2, 0, 0, 0, 0, 1,\n",
    "              5, 5, 6, 7, 7, 7, 7, 6, 6, 7,\n",
    "              4, 4, 3, 3, 4, 5, 5, 5, 6, 6,\n",
    "              7, 7, 7, 7, 7, 6, 7, 7, 7, 5,\n",
    "              6, 6, 6, 6, 7, 7, 7, 5, 5, 5,\n",
    "              4, 4, 4, 5, 5, 5, 6, 6, 6, 6]\n",
    "\n",
    "hist,bins = np.histogram(citra_awal, 256, [0,256])\n",
    "\n",
    "cdf = hist.cumsum()\n",
    "cdf_normalized = cdf * hist.max() / cdf.max()\n",
    "plt.plot(cdf_normalized, color='black')\n",
    "plt.hist(citra_awal, 256, [0,256], color='green')\n",
    "plt.xlim([0,256])\n",
    "plt.legend(('cdf', 'histogram'), loc= 'upper right')\n",
    "plt.show()\n",
    "\n",
    "hasil_output_citra = [7, 7, 7, 7, 7, 4, 4, 4, 4, 4,\n",
    "                      7, 7, 7, 5, 5, 6, 5, 4, 4, 4,\n",
    "                      4, 4, 4, 4, 4, 2, 2, 4, 4, 4,\n",
    "                      1, 1, 1, 1, 2, 2, 2, 2, 4, 4,\n",
    "                      2, 2, 2, 0, 0, 0, 0, 0, 0, 0,\n",
    "                      4, 4, 5, 7, 7, 7, 7, 5, 5, 7,\n",
    "                      2, 2, 2, 1, 2, 4, 4, 4, 5, 5,\n",
    "                      7, 7, 7, 7, 7, 5, 7, 7, 7, 4,\n",
    "                      5, 5, 5, 5, 7, 7, 7, 4, 4, 4,\n",
    "                      2, 2, 2, 4, 4, 4, 4, 5, 5, 5]\n",
    "\n",
    "cdf_m = np.ma.masked_equal(cdf, 0)\n",
    "cdf_m = (cdf_m - cdf_m.min()) * 255 / (cdf_m.max()-cdf_m.min())\n",
    "cdf = np.ma.filled(cdf_m, 0).astype('uint8')\n",
    "hasil = cdf[citra_awal]\n",
    "plt.plot(cdf_normalized, color='black')\n",
    "plt.hist(hasil, 256, [0,256], color='green')\n",
    "plt.xlim([0,256])\n",
    "plt.legend(('cdf', 'histogram'), loc= 'upper right')\n",
    "plt.show()"
   ]
  },
  {
   "cell_type": "code",
   "execution_count": null,
   "metadata": {},
   "outputs": [],
   "source": []
  }
 ],
 "metadata": {
  "kernelspec": {
   "display_name": "Python 3",
   "language": "python",
   "name": "python3"
  },
  "language_info": {
   "codemirror_mode": {
    "name": "ipython",
    "version": 3
   },
   "file_extension": ".py",
   "mimetype": "text/x-python",
   "name": "python",
   "nbconvert_exporter": "python",
   "pygments_lexer": "ipython3",
   "version": "3.7.6"
  }
 },
 "nbformat": 4,
 "nbformat_minor": 2
}
